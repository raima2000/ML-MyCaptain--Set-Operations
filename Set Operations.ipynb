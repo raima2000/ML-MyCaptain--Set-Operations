{
 "cells": [
  {
   "cell_type": "code",
   "execution_count": 1,
   "id": "f60ddf1e",
   "metadata": {},
   "outputs": [],
   "source": [
    "# program to perform different set operations in mathematics\n",
    "# Define two sets\n",
    "A ={ 0,2,4,6,8};\n",
    "B ={1,2,3,4,5};"
   ]
  },
  {
   "cell_type": "code",
   "execution_count": 2,
   "id": "fcaeb6d9",
   "metadata": {},
   "outputs": [
    {
     "name": "stdout",
     "output_type": "stream",
     "text": [
      "Union of A and B is {0, 1, 2, 3, 4, 5, 6, 8}\n"
     ]
    }
   ],
   "source": [
    "# set union\n",
    "print('Union of A and B is', A|B)"
   ]
  },
  {
   "cell_type": "code",
   "execution_count": 3,
   "id": "2ed86dba",
   "metadata": {},
   "outputs": [
    {
     "name": "stdout",
     "output_type": "stream",
     "text": [
      "Intersection of A and B is {2, 4}\n"
     ]
    }
   ],
   "source": [
    "# set intersection \n",
    "print('Intersection of A and B is', A & B)"
   ]
  },
  {
   "cell_type": "code",
   "execution_count": 4,
   "id": "6f3a59fc",
   "metadata": {},
   "outputs": [
    {
     "name": "stdout",
     "output_type": "stream",
     "text": [
      "Difference of A and B is {0, 8, 6}\n"
     ]
    }
   ],
   "source": [
    "# set difference\n",
    "print('Difference of A and B is', A-B)"
   ]
  },
  {
   "cell_type": "code",
   "execution_count": 5,
   "id": "322d4676",
   "metadata": {},
   "outputs": [
    {
     "name": "stdout",
     "output_type": "stream",
     "text": [
      "Symmetric Difference of A and B is {0, 1, 3, 5, 6, 8}\n"
     ]
    }
   ],
   "source": [
    "# symmetric difference \n",
    "print('Symmetric Difference of A and B is', A^B)"
   ]
  },
  {
   "cell_type": "code",
   "execution_count": null,
   "id": "92492dc4",
   "metadata": {},
   "outputs": [],
   "source": []
  }
 ],
 "metadata": {
  "kernelspec": {
   "display_name": "Python 3 (ipykernel)",
   "language": "python",
   "name": "python3"
  },
  "language_info": {
   "codemirror_mode": {
    "name": "ipython",
    "version": 3
   },
   "file_extension": ".py",
   "mimetype": "text/x-python",
   "name": "python",
   "nbconvert_exporter": "python",
   "pygments_lexer": "ipython3",
   "version": "3.9.6"
  }
 },
 "nbformat": 4,
 "nbformat_minor": 5
}
